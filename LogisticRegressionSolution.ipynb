{
  "cells": [
    {
      "cell_type": "code",
      "execution_count": null,
      "id": "c0c07732",
      "metadata": {
        "id": "c0c07732"
      },
      "outputs": [],
      "source": [
        "import pandas as pd\n",
        "from sklearn.linear_model import LogisticRegression \n",
        "from sklearn.model_selection import train_test_split\n",
        "from sklearn.metrics import precision_score, recall_score\n",
        "from sklearn.metrics import f1_score, accuracy_score"
      ]
    },
    {
      "cell_type": "markdown",
      "id": "eeafccc5",
      "metadata": {
        "id": "eeafccc5"
      },
      "source": [
        "Consider the pima-indians-diabetes dataset. The labels of each sample (in column I) is going to be predicted using the attributes in columns A from H (independent variables, predictors). \n",
        "\n",
        "Read the csv dataset into data (denoted by X) and label (denoted by y) parts."
      ]
    },
    {
      "cell_type": "code",
      "execution_count": null,
      "id": "e56e9ea7",
      "metadata": {
        "id": "e56e9ea7"
      },
      "outputs": [],
      "source": [
        "data = pd.read_csv('pima-indians-diabetes.csv', header = None)\n",
        "\n",
        "X = data.iloc[:,0:8]\n",
        "y = data.iloc[:,8]\n"
      ]
    },
    {
      "cell_type": "markdown",
      "id": "5a7417e3",
      "metadata": {
        "id": "5a7417e3"
      },
      "source": [
        "Display the top 10 rows of the dataset"
      ]
    },
    {
      "cell_type": "code",
      "execution_count": null,
      "id": "8d5e40e6",
      "metadata": {
        "id": "8d5e40e6",
        "outputId": "0ac0c067-39a3-4a20-ebb8-bd253366ab0b"
      },
      "outputs": [
        {
          "data": {
            "text/html": [
              "<div>\n",
              "<style scoped>\n",
              "    .dataframe tbody tr th:only-of-type {\n",
              "        vertical-align: middle;\n",
              "    }\n",
              "\n",
              "    .dataframe tbody tr th {\n",
              "        vertical-align: top;\n",
              "    }\n",
              "\n",
              "    .dataframe thead th {\n",
              "        text-align: right;\n",
              "    }\n",
              "</style>\n",
              "<table border=\"1\" class=\"dataframe\">\n",
              "  <thead>\n",
              "    <tr style=\"text-align: right;\">\n",
              "      <th></th>\n",
              "      <th>0</th>\n",
              "      <th>1</th>\n",
              "      <th>2</th>\n",
              "      <th>3</th>\n",
              "      <th>4</th>\n",
              "      <th>5</th>\n",
              "      <th>6</th>\n",
              "      <th>7</th>\n",
              "      <th>8</th>\n",
              "    </tr>\n",
              "  </thead>\n",
              "  <tbody>\n",
              "    <tr>\n",
              "      <th>0</th>\n",
              "      <td>6</td>\n",
              "      <td>148</td>\n",
              "      <td>72</td>\n",
              "      <td>35</td>\n",
              "      <td>0</td>\n",
              "      <td>33.6</td>\n",
              "      <td>0.627</td>\n",
              "      <td>50</td>\n",
              "      <td>1</td>\n",
              "    </tr>\n",
              "    <tr>\n",
              "      <th>1</th>\n",
              "      <td>1</td>\n",
              "      <td>85</td>\n",
              "      <td>66</td>\n",
              "      <td>29</td>\n",
              "      <td>0</td>\n",
              "      <td>26.6</td>\n",
              "      <td>0.351</td>\n",
              "      <td>31</td>\n",
              "      <td>0</td>\n",
              "    </tr>\n",
              "    <tr>\n",
              "      <th>2</th>\n",
              "      <td>8</td>\n",
              "      <td>183</td>\n",
              "      <td>64</td>\n",
              "      <td>0</td>\n",
              "      <td>0</td>\n",
              "      <td>23.3</td>\n",
              "      <td>0.672</td>\n",
              "      <td>32</td>\n",
              "      <td>1</td>\n",
              "    </tr>\n",
              "    <tr>\n",
              "      <th>3</th>\n",
              "      <td>1</td>\n",
              "      <td>89</td>\n",
              "      <td>66</td>\n",
              "      <td>23</td>\n",
              "      <td>94</td>\n",
              "      <td>28.1</td>\n",
              "      <td>0.167</td>\n",
              "      <td>21</td>\n",
              "      <td>0</td>\n",
              "    </tr>\n",
              "    <tr>\n",
              "      <th>4</th>\n",
              "      <td>0</td>\n",
              "      <td>137</td>\n",
              "      <td>40</td>\n",
              "      <td>35</td>\n",
              "      <td>168</td>\n",
              "      <td>43.1</td>\n",
              "      <td>2.288</td>\n",
              "      <td>33</td>\n",
              "      <td>1</td>\n",
              "    </tr>\n",
              "    <tr>\n",
              "      <th>5</th>\n",
              "      <td>5</td>\n",
              "      <td>116</td>\n",
              "      <td>74</td>\n",
              "      <td>0</td>\n",
              "      <td>0</td>\n",
              "      <td>25.6</td>\n",
              "      <td>0.201</td>\n",
              "      <td>30</td>\n",
              "      <td>0</td>\n",
              "    </tr>\n",
              "    <tr>\n",
              "      <th>6</th>\n",
              "      <td>3</td>\n",
              "      <td>78</td>\n",
              "      <td>50</td>\n",
              "      <td>32</td>\n",
              "      <td>88</td>\n",
              "      <td>31.0</td>\n",
              "      <td>0.248</td>\n",
              "      <td>26</td>\n",
              "      <td>1</td>\n",
              "    </tr>\n",
              "    <tr>\n",
              "      <th>7</th>\n",
              "      <td>10</td>\n",
              "      <td>115</td>\n",
              "      <td>0</td>\n",
              "      <td>0</td>\n",
              "      <td>0</td>\n",
              "      <td>35.3</td>\n",
              "      <td>0.134</td>\n",
              "      <td>29</td>\n",
              "      <td>0</td>\n",
              "    </tr>\n",
              "    <tr>\n",
              "      <th>8</th>\n",
              "      <td>2</td>\n",
              "      <td>197</td>\n",
              "      <td>70</td>\n",
              "      <td>45</td>\n",
              "      <td>543</td>\n",
              "      <td>30.5</td>\n",
              "      <td>0.158</td>\n",
              "      <td>53</td>\n",
              "      <td>1</td>\n",
              "    </tr>\n",
              "    <tr>\n",
              "      <th>9</th>\n",
              "      <td>8</td>\n",
              "      <td>125</td>\n",
              "      <td>96</td>\n",
              "      <td>0</td>\n",
              "      <td>0</td>\n",
              "      <td>0.0</td>\n",
              "      <td>0.232</td>\n",
              "      <td>54</td>\n",
              "      <td>1</td>\n",
              "    </tr>\n",
              "  </tbody>\n",
              "</table>\n",
              "</div>"
            ],
            "text/plain": [
              "    0    1   2   3    4     5      6   7  8\n",
              "0   6  148  72  35    0  33.6  0.627  50  1\n",
              "1   1   85  66  29    0  26.6  0.351  31  0\n",
              "2   8  183  64   0    0  23.3  0.672  32  1\n",
              "3   1   89  66  23   94  28.1  0.167  21  0\n",
              "4   0  137  40  35  168  43.1  2.288  33  1\n",
              "5   5  116  74   0    0  25.6  0.201  30  0\n",
              "6   3   78  50  32   88  31.0  0.248  26  1\n",
              "7  10  115   0   0    0  35.3  0.134  29  0\n",
              "8   2  197  70  45  543  30.5  0.158  53  1\n",
              "9   8  125  96   0    0   0.0  0.232  54  1"
            ]
          },
          "execution_count": 74,
          "metadata": {},
          "output_type": "execute_result"
        }
      ],
      "source": [
        "data.head(10)"
      ]
    },
    {
      "cell_type": "markdown",
      "id": "20b0f34b",
      "metadata": {
        "id": "20b0f34b"
      },
      "source": [
        "Using the label column, split your dataset into two parts, namely training data and test data, such that each part includes approximately the same number of positive and negative samples."
      ]
    },
    {
      "cell_type": "code",
      "execution_count": null,
      "id": "0121863c",
      "metadata": {
        "id": "0121863c"
      },
      "outputs": [],
      "source": [
        "x_train,x_test,y_train,y_test = train_test_split(X,y,test_size = 0.5, random_state=1)"
      ]
    },
    {
      "cell_type": "markdown",
      "id": "eed3dc7f",
      "metadata": {
        "id": "eed3dc7f"
      },
      "source": [
        "Using the training data, generate a logistic regression classifier to predict the Labels of the  samples in the test data."
      ]
    },
    {
      "cell_type": "code",
      "execution_count": null,
      "id": "15c2c1d1",
      "metadata": {
        "id": "15c2c1d1",
        "outputId": "fe84968a-b5af-4402-d080-d577b088b539"
      },
      "outputs": [],
      "source": [
        "clf = LogisticRegression()\n",
        "clf.fit(x_train,y_train)\n",
        "y_pred = clf.predict(x_test)"
      ]
    },
    {
      "cell_type": "markdown",
      "id": "045b8ef5",
      "metadata": {
        "id": "045b8ef5"
      },
      "source": [
        "Compute the Accuracy, Precision, Recall and F1 values of your classifier using the test data"
      ]
    },
    {
      "cell_type": "code",
      "execution_count": null,
      "id": "d29c811b",
      "metadata": {
        "id": "d29c811b",
        "outputId": "8b9b2d94-5029-4ce8-8a51-e2ab9d247964"
      },
      "outputs": [
        {
          "name": "stdout",
          "output_type": "stream",
          "text": [
            "0.7708333333333334\n",
            "0.7358490566037735\n",
            "0.5652173913043478\n",
            "0.6393442622950819\n"
          ]
        }
      ],
      "source": [
        "print(accuracy_score(y_test, y_pred))\n",
        "print(precision_score(y_test, y_pred)) \n",
        "print(recall_score(y_test, y_pred)) \n",
        "print(f1_score(y_test, y_pred))"
      ]
    },
    {
      "cell_type": "markdown",
      "id": "a51a0a3c",
      "metadata": {
        "id": "a51a0a3c"
      },
      "source": [
        "Discard the features in columns E and G. Repeat the tasks mentioned above and report the scores you obtain. Comment on the results."
      ]
    },
    {
      "cell_type": "code",
      "execution_count": null,
      "id": "37709698",
      "metadata": {
        "id": "37709698",
        "outputId": "67ee3ac1-cc52-4274-f25b-52fdae65c456"
      },
      "outputs": [
        {
          "name": "stdout",
          "output_type": "stream",
          "text": [
            "0.7708333333333334\n",
            "0.7314814814814815\n",
            "0.572463768115942\n",
            "0.6422764227642277\n"
          ]
        }
      ],
      "source": [
        "mylist = [0,1,2,3,5,7]\n",
        "X = data.iloc[:,mylist]\n",
        "x_train,x_test,y_train,y_test = train_test_split(X,y,test_size = 0.5, random_state=1)\n",
        "clf = LogisticRegression()\n",
        "clf.fit(x_train,y_train)\n",
        "y_pred = clf.predict(x_test)\n",
        "print(accuracy_score(y_test, y_pred))\n",
        "print(precision_score(y_test, y_pred)) \n",
        "print(recall_score(y_test, y_pred)) \n",
        "print(f1_score(y_test, y_pred))"
      ]
    }
  ],
  "metadata": {
    "colab": {
      "provenance": []
    },
    "kernelspec": {
      "display_name": "Python 3 (ipykernel)",
      "language": "python",
      "name": "python3"
    },
    "language_info": {
      "codemirror_mode": {
        "name": "ipython",
        "version": 3
      },
      "file_extension": ".py",
      "mimetype": "text/x-python",
      "name": "python",
      "nbconvert_exporter": "python",
      "pygments_lexer": "ipython3",
      "version": "3.9.7"
    }
  },
  "nbformat": 4,
  "nbformat_minor": 5
}
